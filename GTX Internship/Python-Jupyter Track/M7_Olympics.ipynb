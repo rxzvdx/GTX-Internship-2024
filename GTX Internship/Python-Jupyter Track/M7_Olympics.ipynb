{
 "cells": [
  {
   "cell_type": "markdown",
   "metadata": {
    "id": "0wB3bGTjGyoF"
   },
   "source": [
    "![](https://upload.wikimedia.org/wikipedia/commons/thumb/7/77/IOC_Logo.svg/2341px-IOC_Logo.svg.png)\n",
    "\n",
    "# Introduction\n",
    "\n",
    "Welcome to your first day as an analyst working for the IOC! The IOC is at the very heart of world sport, supporting every Olympic Movement stakeholder, promoting Olympism worldwide, and overseeing the regular celebration of the Olympic Games.\n",
    "\n",
    "For a moment of glory on the medalist podium, elite athletes dedicate *everything* to their sport. Olympics medalists from 1896 through 2016 comprise the dataset you'll be working with. Who are the youngest and oldest medalists of all time? Are there physical differences between Summer Olympics medalists and Winter Olympics medalists? You're about to use your data coding chops to find out!\n",
    "\n",
    "You'll start this Milestone assignment by cleaning and filtering the data. So many of your Python skills that you've learned so far will be at play. Are you up for it? Let's go!\n",
    "\n",
    "### Dataset Description\n",
    "\n",
    "The dataset is stored in a .csv file named `olympics.csv`. It contains the following columns:\n",
    "\n",
    "* **ID**: A unique identifying number of each athlete\n",
    "* **Name**: The name of each athlete\n",
    "* **Sex**: M or F\n",
    "* **Age**: The age of an athlete, in years, at the time they competed.\n",
    "* **Height**: The height of an athlete, in centimeters\n",
    "* **Weight**: The weight of an athlete, in kilograms\n",
    "* **Team**: The name of the athlete’s team. Not always the name of a country.\n",
    "* **NOC**: National Olympic Committee’s 3 letter code\n",
    "* **Games**: Year and season\n",
    "* **Season**: Summer or Winter\n",
    "* **City**: Host city\n",
    "* **Sport**: The sport or category of an olympic event/activity\n",
    "* **Event**: specific event within a sport, e.g. Men’s 400 meters breaststroke.\n",
    "* **Medal**: Gold, Silver, Bronze\n",
    "* **Region**: Name of athlete’s country\n",
    "\n"
   ]
  },
  {
   "cell_type": "markdown",
   "metadata": {
    "id": "Gm4vWqYdMH5s"
   },
   "source": [
    "# Task 1: Data Inspection\n",
    "\n",
    "![](https://media.giphy.com/media/42wQXwITfQbDGKqUP7/giphy.gif)"
   ]
  },
  {
   "cell_type": "code",
   "execution_count": null,
   "metadata": {
    "id": "TgSpacNhGp1b"
   },
   "outputs": [],
   "source": [
    "# import the pandas library\n",
    "import pandas as pd"
   ]
  },
  {
   "cell_type": "code",
   "execution_count": 3,
   "metadata": {
    "id": "N41nUAsDGp1e"
   },
   "outputs": [],
   "source": [
    "# import the pandas library\n",
    "import pandas as pd\n",
    "\n",
    "# Load in the data\n",
    "df = pd.read_csv('datasets/olympics.csv')"
   ]
  },
  {
   "cell_type": "code",
   "execution_count": null,
   "metadata": {
    "id": "C1SZ71lXGp1f"
   },
   "outputs": [],
   "source": [
    "# import the pandas library\n",
    "import pandas as pd\n",
    "\n",
    "# Load in the data\n",
    "df = pd.read_csv('datasets/olympics.csv')\n",
    "\n",
    "# Preview DataFrame\n",
    "print(df.head())"
   ]
  },
  {
   "cell_type": "code",
   "execution_count": 4,
   "metadata": {
    "id": "PPjVwwKKGp1h"
   },
   "outputs": [
    {
     "name": "stdout",
     "output_type": "stream",
     "text": [
      "   ID                      Name Sex   Age  Height  Weight            Team  \\\n",
      "0   4      Edgar Lindenau Aabye   M  34.0     NaN     NaN  Denmark/Sweden   \n",
      "1  15      Arvo Ossian Aaltonen   M  30.0     NaN     NaN         Finland   \n",
      "2  15      Arvo Ossian Aaltonen   M  30.0     NaN     NaN         Finland   \n",
      "3  16  Juhamatti Tapio Aaltonen   M  28.0   184.0    85.0         Finland   \n",
      "4  17   Paavo Johannes Aaltonen   M  28.0   175.0    64.0         Finland   \n",
      "\n",
      "   NOC        Games  Year  Season       City       Sport  \\\n",
      "0  DEN  1900 Summer  1900  Summer      Paris  Tug-Of-War   \n",
      "1  FIN  1920 Summer  1920  Summer  Antwerpen    Swimming   \n",
      "2  FIN  1920 Summer  1920  Summer  Antwerpen    Swimming   \n",
      "3  FIN  2014 Winter  2014  Winter      Sochi  Ice Hockey   \n",
      "4  FIN  1948 Summer  1948  Summer     London  Gymnastics   \n",
      "\n",
      "                                    Event   Medal   region  \n",
      "0             Tug-Of-War Men's Tug-Of-War    Gold  Denmark  \n",
      "1  Swimming Men's 200 metres Breaststroke  Bronze  Finland  \n",
      "2  Swimming Men's 400 metres Breaststroke  Bronze  Finland  \n",
      "3             Ice Hockey Men's Ice Hockey  Bronze  Finland  \n",
      "4  Gymnastics Men's Individual All-Around  Bronze  Finland  \n",
      "Number of rows: 39783, Number of columns: 16\n"
     ]
    }
   ],
   "source": [
    "# import the pandas library\n",
    "import pandas as pd\n",
    "\n",
    "# Load in the data\n",
    "df = pd.read_csv('datasets/olympics.csv')\n",
    "\n",
    "# Preview DataFrame\n",
    "print(df.head())\n",
    "\n",
    "# Inspect the numbers of rows and columns\n",
    "print(f\"Number of rows: {df.shape[0]}, Number of columns: {df.shape[1]}\")"
   ]
  },
  {
   "cell_type": "code",
   "execution_count": null,
   "metadata": {
    "id": "3VoFS4qhGp1h"
   },
   "outputs": [],
   "source": [
    "# import the pandas library\n",
    "import pandas as pd\n",
    "\n",
    "# Load in the data\n",
    "df = pd.read_csv('datasets/olympics.csv')\n",
    "\n",
    "# Preview DataFrame\n",
    "print(df.head())\n",
    "\n",
    "# Inspect the numbers of rows and columns\n",
    "print(f\"Number of rows: {df.shape[0]}, Number of columns: {df.shape[1]}\")\n",
    "\n",
    "# Inspect column names\n",
    "print(df.columns)"
   ]
  },
  {
   "cell_type": "code",
   "execution_count": null,
   "metadata": {
    "id": "9AhuNK0HGp1i"
   },
   "outputs": [],
   "source": [
    "# import the pandas library\n",
    "import pandas as pd\n",
    "\n",
    "# Load in the data\n",
    "df = pd.read_csv('datasets/olympics.csv')\n",
    "\n",
    "# Preview DataFrame\n",
    "print(df.head())\n",
    "\n",
    "# Inspect the numbers of rows and columns\n",
    "print(f\"Number of rows: {df.shape[0]}, Number of columns: {df.shape[1]}\")\n",
    "\n",
    "# Inspect column names\n",
    "print(df.columns)\n",
    "\n",
    "# Inspect column data types, memory usage, etc.\n",
    "print(df.info())"
   ]
  },
  {
   "cell_type": "code",
   "execution_count": null,
   "metadata": {
    "id": "f1mLllODGp1i"
   },
   "outputs": [],
   "source": [
    "# import the pandas library\n",
    "import pandas as pd\n",
    "\n",
    "# Load in the data\n",
    "df = pd.read_csv('datasets/olympics.csv')\n",
    "\n",
    "# Preview DataFrame\n",
    "print(df.head())\n",
    "\n",
    "# Inspect the numbers of rows and columns\n",
    "print(f\"Number of rows: {df.shape[0]}, Number of columns: {df.shape[1]}\")\n",
    "\n",
    "# Inspect column names\n",
    "print(df.columns)\n",
    "\n",
    "# Inspect column data types, memory usage, etc.\n",
    "print(df.info())\n",
    "\n",
    "# Display a statistical summary of the data\n",
    "print(df.describe())"
   ]
  },
  {
   "cell_type": "code",
   "execution_count": 5,
   "metadata": {
    "id": "jS02gtfNGp1j"
   },
   "outputs": [
    {
     "name": "stdout",
     "output_type": "stream",
     "text": [
      "   ID                      Name Sex   Age  Height  Weight            Team  \\\n",
      "0   4      Edgar Lindenau Aabye   M  34.0     NaN     NaN  Denmark/Sweden   \n",
      "1  15      Arvo Ossian Aaltonen   M  30.0     NaN     NaN         Finland   \n",
      "2  15      Arvo Ossian Aaltonen   M  30.0     NaN     NaN         Finland   \n",
      "3  16  Juhamatti Tapio Aaltonen   M  28.0   184.0    85.0         Finland   \n",
      "4  17   Paavo Johannes Aaltonen   M  28.0   175.0    64.0         Finland   \n",
      "\n",
      "   NOC        Games  Year  Season       City       Sport  \\\n",
      "0  DEN  1900 Summer  1900  Summer      Paris  Tug-Of-War   \n",
      "1  FIN  1920 Summer  1920  Summer  Antwerpen    Swimming   \n",
      "2  FIN  1920 Summer  1920  Summer  Antwerpen    Swimming   \n",
      "3  FIN  2014 Winter  2014  Winter      Sochi  Ice Hockey   \n",
      "4  FIN  1948 Summer  1948  Summer     London  Gymnastics   \n",
      "\n",
      "                                    Event   Medal   region  \n",
      "0             Tug-Of-War Men's Tug-Of-War    Gold  Denmark  \n",
      "1  Swimming Men's 200 metres Breaststroke  Bronze  Finland  \n",
      "2  Swimming Men's 400 metres Breaststroke  Bronze  Finland  \n",
      "3             Ice Hockey Men's Ice Hockey  Bronze  Finland  \n",
      "4  Gymnastics Men's Individual All-Around  Bronze  Finland  \n",
      "Number of rows: 39783, Number of columns: 16\n",
      "Index(['ID', 'Name', 'Sex', 'Age', 'Height', 'Weight', 'Team', 'NOC', 'Games',\n",
      "       'Year', 'Season', 'City', 'Sport', 'Event', 'Medal', 'region'],\n",
      "      dtype='object')\n",
      "<class 'pandas.core.frame.DataFrame'>\n",
      "RangeIndex: 39783 entries, 0 to 39782\n",
      "Data columns (total 16 columns):\n",
      " #   Column  Non-Null Count  Dtype  \n",
      "---  ------  --------------  -----  \n",
      " 0   ID      39783 non-null  int64  \n",
      " 1   Name    39783 non-null  object \n",
      " 2   Sex     39783 non-null  object \n",
      " 3   Age     39051 non-null  float64\n",
      " 4   Height  31072 non-null  float64\n",
      " 5   Weight  30456 non-null  float64\n",
      " 6   Team    39783 non-null  object \n",
      " 7   NOC     39783 non-null  object \n",
      " 8   Games   39783 non-null  object \n",
      " 9   Year    39783 non-null  int64  \n",
      " 10  Season  39783 non-null  object \n",
      " 11  City    39783 non-null  object \n",
      " 12  Sport   39783 non-null  object \n",
      " 13  Event   39783 non-null  object \n",
      " 14  Medal   39783 non-null  object \n",
      " 15  region  39774 non-null  object \n",
      "dtypes: float64(3), int64(2), object(11)\n",
      "memory usage: 4.9+ MB\n",
      "None\n",
      "                  ID           Age        Height        Weight          Year\n",
      "count   39783.000000  39051.000000  31072.000000  30456.000000  39783.000000\n",
      "mean    69407.051806     25.925175    177.554197     73.770680   1973.943845\n",
      "std     38849.980737      5.914026     10.893723     15.016025     33.822857\n",
      "min         4.000000     10.000000    136.000000     28.000000   1896.000000\n",
      "25%     36494.000000     22.000000    170.000000     63.000000   1952.000000\n",
      "50%     68990.000000     25.000000    178.000000     73.000000   1984.000000\n",
      "75%    103461.500000     29.000000    185.000000     83.000000   2002.000000\n",
      "max    135563.000000     73.000000    223.000000    182.000000   2016.000000\n",
      "['Gold' 'Bronze' 'Silver']\n"
     ]
    }
   ],
   "source": [
    "# import the pandas library\n",
    "import pandas as pd\n",
    "\n",
    "# Load in the data\n",
    "df = pd.read_csv('datasets/olympics.csv')\n",
    "\n",
    "# Preview DataFrame\n",
    "print(df.head())\n",
    "\n",
    "# Inspect the numbers of rows and columns\n",
    "print(f\"Number of rows: {df.shape[0]}, Number of columns: {df.shape[1]}\")\n",
    "\n",
    "# Inspect column names\n",
    "print(df.columns)\n",
    "\n",
    "# Inspect column data types, memory usage, etc.\n",
    "print(df.info())\n",
    "\n",
    "# Display a statistical summary of the data\n",
    "print(df.describe())\n",
    "\n",
    "# What types of medals are there?\n",
    "print(df['Medal'].unique())"
   ]
  },
  {
   "cell_type": "markdown",
   "metadata": {
    "id": "SQ8I76OxGp1j"
   },
   "source": [
    "# Task 2: Data Cleaning\n",
    "\n",
    "![](https://media.giphy.com/media/10zsjaH4g0GgmY/giphy.gif)"
   ]
  },
  {
   "cell_type": "code",
   "execution_count": 7,
   "metadata": {
    "id": "LRX6j6NRGp1k"
   },
   "outputs": [
    {
     "name": "stdout",
     "output_type": "stream",
     "text": [
      "   ID                      Name Sex   Age  Height  Weight            Team  \\\n",
      "0   4      Edgar Lindenau Aabye   M  34.0     NaN     NaN  Denmark/Sweden   \n",
      "1  15      Arvo Ossian Aaltonen   M  30.0     NaN     NaN         Finland   \n",
      "2  15      Arvo Ossian Aaltonen   M  30.0     NaN     NaN         Finland   \n",
      "3  16  Juhamatti Tapio Aaltonen   M  28.0   184.0    85.0         Finland   \n",
      "4  17   Paavo Johannes Aaltonen   M  28.0   175.0    64.0         Finland   \n",
      "\n",
      "   NOC        Games  Year  Season       City       Sport  \\\n",
      "0  DEN  1900 Summer  1900  Summer      Paris  Tug-Of-War   \n",
      "1  FIN  1920 Summer  1920  Summer  Antwerpen    Swimming   \n",
      "2  FIN  1920 Summer  1920  Summer  Antwerpen    Swimming   \n",
      "3  FIN  2014 Winter  2014  Winter      Sochi  Ice Hockey   \n",
      "4  FIN  1948 Summer  1948  Summer     London  Gymnastics   \n",
      "\n",
      "                                    Event   Medal   region  \n",
      "0             Tug-Of-War Men's Tug-Of-War    Gold  Denmark  \n",
      "1  Swimming Men's 200 metres Breaststroke  Bronze  Finland  \n",
      "2  Swimming Men's 400 metres Breaststroke  Bronze  Finland  \n",
      "3             Ice Hockey Men's Ice Hockey  Bronze  Finland  \n",
      "4  Gymnastics Men's Individual All-Around  Bronze  Finland  \n",
      "Number of rows: 39783, Number of columns: 16\n",
      "Index(['ID', 'Name', 'Sex', 'Age', 'Height', 'Weight', 'Team', 'NOC', 'Games',\n",
      "       'Year', 'Season', 'City', 'Sport', 'Event', 'Medal', 'region'],\n",
      "      dtype='object')\n",
      "<class 'pandas.core.frame.DataFrame'>\n",
      "RangeIndex: 39783 entries, 0 to 39782\n",
      "Data columns (total 16 columns):\n",
      " #   Column  Non-Null Count  Dtype  \n",
      "---  ------  --------------  -----  \n",
      " 0   ID      39783 non-null  int64  \n",
      " 1   Name    39783 non-null  object \n",
      " 2   Sex     39783 non-null  object \n",
      " 3   Age     39051 non-null  float64\n",
      " 4   Height  31072 non-null  float64\n",
      " 5   Weight  30456 non-null  float64\n",
      " 6   Team    39783 non-null  object \n",
      " 7   NOC     39783 non-null  object \n",
      " 8   Games   39783 non-null  object \n",
      " 9   Year    39783 non-null  int64  \n",
      " 10  Season  39783 non-null  object \n",
      " 11  City    39783 non-null  object \n",
      " 12  Sport   39783 non-null  object \n",
      " 13  Event   39783 non-null  object \n",
      " 14  Medal   39783 non-null  object \n",
      " 15  region  39774 non-null  object \n",
      "dtypes: float64(3), int64(2), object(11)\n",
      "memory usage: 4.9+ MB\n",
      "None\n",
      "                  ID           Age        Height        Weight          Year\n",
      "count   39783.000000  39051.000000  31072.000000  30456.000000  39783.000000\n",
      "mean    69407.051806     25.925175    177.554197     73.770680   1973.943845\n",
      "std     38849.980737      5.914026     10.893723     15.016025     33.822857\n",
      "min         4.000000     10.000000    136.000000     28.000000   1896.000000\n",
      "25%     36494.000000     22.000000    170.000000     63.000000   1952.000000\n",
      "50%     68990.000000     25.000000    178.000000     73.000000   1984.000000\n",
      "75%    103461.500000     29.000000    185.000000     83.000000   2002.000000\n",
      "max    135563.000000     73.000000    223.000000    182.000000   2016.000000\n",
      "['Gold' 'Bronze' 'Silver']\n",
      "Index(['ID', 'Name', 'Sex', 'Age', 'Height', 'Weight', 'Team', 'CountryCode',\n",
      "       'Games', 'Year', 'Season', 'City', 'Sport', 'Event', 'Medal', 'region'],\n",
      "      dtype='object')\n"
     ]
    }
   ],
   "source": [
    "# import the pandas library\n",
    "import pandas as pd\n",
    "\n",
    "# Load in the data\n",
    "df = pd.read_csv('datasets/olympics.csv')\n",
    "\n",
    "# Preview DataFrame\n",
    "print(df.head())\n",
    "\n",
    "# Inspect the numbers of rows and columns\n",
    "print(f\"Number of rows: {df.shape[0]}, Number of columns: {df.shape[1]}\")\n",
    "\n",
    "# Inspect column names\n",
    "print(df.columns)\n",
    "\n",
    "# Inspect column data types, memory usage, etc.\n",
    "print(df.info())\n",
    "\n",
    "# Display a statistical summary of the data\n",
    "print(df.describe())\n",
    "\n",
    "# What types of medals are there?\n",
    "print(df['Medal'].unique())\n",
    "\n",
    "# Rename 'NOC' column to 'CountryCode'\n",
    "df.rename(columns={'NOC': 'CountryCode'}, inplace=True)\n",
    "\n",
    "# Rename 'region' column to 'Country'\n",
    "df.rename(columns={'Region': 'Country'}, inplace=True)\n",
    "\n",
    "print(df.columns)"
   ]
  },
  {
   "cell_type": "code",
   "execution_count": 8,
   "metadata": {
    "id": "BCdBy9DtGp1k"
   },
   "outputs": [
    {
     "name": "stdout",
     "output_type": "stream",
     "text": [
      "   ID                      Name Sex   Age  Height  Weight            Team  \\\n",
      "0   4      Edgar Lindenau Aabye   M  34.0     NaN     NaN  Denmark/Sweden   \n",
      "1  15      Arvo Ossian Aaltonen   M  30.0     NaN     NaN         Finland   \n",
      "2  15      Arvo Ossian Aaltonen   M  30.0     NaN     NaN         Finland   \n",
      "3  16  Juhamatti Tapio Aaltonen   M  28.0   184.0    85.0         Finland   \n",
      "4  17   Paavo Johannes Aaltonen   M  28.0   175.0    64.0         Finland   \n",
      "\n",
      "   NOC        Games  Year  Season       City       Sport  \\\n",
      "0  DEN  1900 Summer  1900  Summer      Paris  Tug-Of-War   \n",
      "1  FIN  1920 Summer  1920  Summer  Antwerpen    Swimming   \n",
      "2  FIN  1920 Summer  1920  Summer  Antwerpen    Swimming   \n",
      "3  FIN  2014 Winter  2014  Winter      Sochi  Ice Hockey   \n",
      "4  FIN  1948 Summer  1948  Summer     London  Gymnastics   \n",
      "\n",
      "                                    Event   Medal   region  \n",
      "0             Tug-Of-War Men's Tug-Of-War    Gold  Denmark  \n",
      "1  Swimming Men's 200 metres Breaststroke  Bronze  Finland  \n",
      "2  Swimming Men's 400 metres Breaststroke  Bronze  Finland  \n",
      "3             Ice Hockey Men's Ice Hockey  Bronze  Finland  \n",
      "4  Gymnastics Men's Individual All-Around  Bronze  Finland  \n",
      "Number of rows: 39783, Number of columns: 16\n",
      "Index(['ID', 'Name', 'Sex', 'Age', 'Height', 'Weight', 'Team', 'NOC', 'Games',\n",
      "       'Year', 'Season', 'City', 'Sport', 'Event', 'Medal', 'region'],\n",
      "      dtype='object')\n",
      "<class 'pandas.core.frame.DataFrame'>\n",
      "RangeIndex: 39783 entries, 0 to 39782\n",
      "Data columns (total 16 columns):\n",
      " #   Column  Non-Null Count  Dtype  \n",
      "---  ------  --------------  -----  \n",
      " 0   ID      39783 non-null  int64  \n",
      " 1   Name    39783 non-null  object \n",
      " 2   Sex     39783 non-null  object \n",
      " 3   Age     39051 non-null  float64\n",
      " 4   Height  31072 non-null  float64\n",
      " 5   Weight  30456 non-null  float64\n",
      " 6   Team    39783 non-null  object \n",
      " 7   NOC     39783 non-null  object \n",
      " 8   Games   39783 non-null  object \n",
      " 9   Year    39783 non-null  int64  \n",
      " 10  Season  39783 non-null  object \n",
      " 11  City    39783 non-null  object \n",
      " 12  Sport   39783 non-null  object \n",
      " 13  Event   39783 non-null  object \n",
      " 14  Medal   39783 non-null  object \n",
      " 15  region  39774 non-null  object \n",
      "dtypes: float64(3), int64(2), object(11)\n",
      "memory usage: 4.9+ MB\n",
      "None\n",
      "                  ID           Age        Height        Weight          Year\n",
      "count   39783.000000  39051.000000  31072.000000  30456.000000  39783.000000\n",
      "mean    69407.051806     25.925175    177.554197     73.770680   1973.943845\n",
      "std     38849.980737      5.914026     10.893723     15.016025     33.822857\n",
      "min         4.000000     10.000000    136.000000     28.000000   1896.000000\n",
      "25%     36494.000000     22.000000    170.000000     63.000000   1952.000000\n",
      "50%     68990.000000     25.000000    178.000000     73.000000   1984.000000\n",
      "75%    103461.500000     29.000000    185.000000     83.000000   2002.000000\n",
      "max    135563.000000     73.000000    223.000000    182.000000   2016.000000\n",
      "['Gold' 'Bronze' 'Silver']\n",
      "Index(['ID', 'Name', 'Sex', 'Age', 'Height', 'Weight', 'Team', 'CountryCode',\n",
      "       'Games', 'Year', 'Season', 'City', 'Sport', 'Event', 'Medal', 'region'],\n",
      "      dtype='object')\n",
      "   ID                      Name Sex   Age  Height  Weight            Team  \\\n",
      "0   4      Edgar Lindenau Aabye   M  34.0     NaN     NaN  Denmark/Sweden   \n",
      "1  15      Arvo Ossian Aaltonen   M  30.0     NaN     NaN         Finland   \n",
      "2  15      Arvo Ossian Aaltonen   M  30.0     NaN     NaN         Finland   \n",
      "3  16  Juhamatti Tapio Aaltonen   M  28.0   184.0    85.0         Finland   \n",
      "4  17   Paavo Johannes Aaltonen   M  28.0   175.0    64.0         Finland   \n",
      "\n",
      "  CountryCode        Games  Year  Season       City       Sport  \\\n",
      "0         DEN  1900 Summer  1900  Summer      Paris  Tug-Of-War   \n",
      "1         FIN  1920 Summer  1920  Summer  Antwerpen    Swimming   \n",
      "2         FIN  1920 Summer  1920  Summer  Antwerpen    Swimming   \n",
      "3         FIN  2014 Winter  2014  Winter      Sochi  Ice Hockey   \n",
      "4         FIN  1948 Summer  1948  Summer     London  Gymnastics   \n",
      "\n",
      "                                    Event   Medal   region  \n",
      "0             Tug-Of-War Men's Tug-Of-War    Gold  Denmark  \n",
      "1  Swimming Men's 200 metres Breaststroke  Bronze  Finland  \n",
      "2  Swimming Men's 400 metres Breaststroke  Bronze  Finland  \n",
      "3             Ice Hockey Men's Ice Hockey  Bronze  Finland  \n",
      "4  Gymnastics Men's Individual All-Around  Bronze  Finland  \n"
     ]
    }
   ],
   "source": [
    "# import the pandas library\n",
    "import pandas as pd\n",
    "\n",
    "# Load in the data\n",
    "df = pd.read_csv('datasets/olympics.csv')\n",
    "\n",
    "# Preview DataFrame\n",
    "print(df.head())\n",
    "\n",
    "# Inspect the numbers of rows and columns\n",
    "print(f\"Number of rows: {df.shape[0]}, Number of columns: {df.shape[1]}\")\n",
    "\n",
    "# Inspect column names\n",
    "print(df.columns)\n",
    "\n",
    "# Inspect column data types, memory usage, etc.\n",
    "print(df.info())\n",
    "\n",
    "# Display a statistical summary of the data\n",
    "print(df.describe())\n",
    "\n",
    "# What types of medals are there?\n",
    "print(df['Medal'].unique())\n",
    "\n",
    "# Rename 'NOC' column to 'CountryCode'\n",
    "df.rename(columns={'NOC': 'CountryCode'}, inplace=True)\n",
    "\n",
    "# Rename 'region' column to 'Country'\n",
    "df.rename(columns={'Region': 'Country'}, inplace=True)\n",
    "\n",
    "print(df.columns)\n",
    "\n",
    "# Remove the 'Team' column\n",
    "print(df.head())"
   ]
  },
  {
   "cell_type": "markdown",
   "metadata": {
    "id": "5Zb5hLm2Gp1k",
    "tags": []
   },
   "source": [
    "# Task 3: Data Analysis\n",
    "\n",
    "![](https://media.giphy.com/media/MT5UUV1d4CXE2A37Dg/giphy.gif)"
   ]
  },
  {
   "cell_type": "code",
   "execution_count": 9,
   "metadata": {
    "id": "EjeEAadQGp1l"
   },
   "outputs": [
    {
     "name": "stdout",
     "output_type": "stream",
     "text": [
      "Youngest age of an Olympics medalist: 10.0 years\n"
     ]
    }
   ],
   "source": [
    "# What is the youngest age of an Olympics medalist?\n",
    "youngest_age = df['Age'].min()\n",
    "print(f\"Youngest age of an Olympics medalist: {youngest_age} years\")"
   ]
  },
  {
   "cell_type": "code",
   "execution_count": 10,
   "metadata": {
    "id": "BFafWEgJGp1l"
   },
   "outputs": [
    {
     "name": "stdout",
     "output_type": "stream",
     "text": [
      "Oldest age of an Olympics medalist: 73.0 years\n"
     ]
    }
   ],
   "source": [
    "# What is the oldest age of an Olympics medalist?\n",
    "oldest_age = df['Age'].max()\n",
    "print(f\"Oldest age of an Olympics medalist: {oldest_age} years\")"
   ]
  },
  {
   "cell_type": "code",
   "execution_count": 11,
   "metadata": {
    "id": "X0QbfippGp1l"
   },
   "outputs": [
    {
     "name": "stdout",
     "output_type": "stream",
     "text": [
      "Number of each medal awarded:\n",
      "Gold      13372\n",
      "Bronze    13295\n",
      "Silver    13116\n",
      "Name: Medal, dtype: int64\n"
     ]
    }
   ],
   "source": [
    "# How many of each medal were awarded?\n",
    "medal_counts = df['Medal'].value_counts()\n",
    "print(\"Number of each medal awarded:\")\n",
    "print(medal_counts)"
   ]
  },
  {
   "cell_type": "code",
   "execution_count": 14,
   "metadata": {
    "id": "aLKoJmb7Gp1m"
   },
   "outputs": [
    {
     "name": "stdout",
     "output_type": "stream",
     "text": [
      "Number of events: 756\n"
     ]
    }
   ],
   "source": [
    "# How many events are there?\n",
    "num_events = df['Event'].nunique()\n",
    "print(f\"Number of events: {num_events}\")"
   ]
  },
  {
   "cell_type": "code",
   "execution_count": 16,
   "metadata": {
    "id": "O0BoABdUGp1m"
   },
   "outputs": [
    {
     "name": "stdout",
     "output_type": "stream",
     "text": [
      "Number of sports: 66\n"
     ]
    }
   ],
   "source": [
    "# How many sports are there?\n",
    "num_sports = df['Sport'].nunique()\n",
    "print(f\"Number of sports: {num_sports}\")"
   ]
  },
  {
   "cell_type": "code",
   "execution_count": 17,
   "metadata": {
    "id": "3bCZjivrGp1m"
   },
   "outputs": [
    {
     "name": "stdout",
     "output_type": "stream",
     "text": [
      "Average age of an Olympics medalist: 25.93 years\n"
     ]
    }
   ],
   "source": [
    "# What is the average age of an Olympics medalist?\n",
    "avg_age = df['Age'].mean()\n",
    "print(f\"Average age of an Olympics medalist: {avg_age:.2f} years\")"
   ]
  },
  {
   "cell_type": "code",
   "execution_count": 18,
   "metadata": {
    "id": "zNpTSGtpGp1m"
   },
   "outputs": [
    {
     "name": "stdout",
     "output_type": "stream",
     "text": [
      "Most common sports among the 10 oldest medalists:\n",
      "Art Competitions    5\n",
      "Sailing             3\n",
      "Shooting            1\n",
      "Archery             1\n",
      "Name: Sport, dtype: int64\n"
     ]
    }
   ],
   "source": [
    "# Among the 10 oldest medalists, what are the most common sports?\n",
    "oldest_medalists = df.nlargest(10, 'Age')\n",
    "common_sports = oldest_medalists['Sport'].value_counts()\n",
    "print(\"Most common sports among the 10 oldest medalists:\")\n",
    "print(common_sports)"
   ]
  },
  {
   "cell_type": "code",
   "execution_count": 22,
   "metadata": {
    "id": "EDznIem9Gp1n"
   },
   "outputs": [
    {
     "name": "stdout",
     "output_type": "stream",
     "text": [
      "Top 10 winningest countries in total medal count:\n",
      "USA          5637\n",
      "Russia       3947\n",
      "Germany      3756\n",
      "UK           2068\n",
      "France       1777\n",
      "Italy        1637\n",
      "Sweden       1536\n",
      "Canada       1352\n",
      "Australia    1349\n",
      "Hungary      1135\n",
      "Name: region, dtype: int64\n"
     ]
    }
   ],
   "source": [
    "# What are the 10 winningest countries in total medal count?\n",
    "top_countries = df['region'].value_counts().head(10)\n",
    "print(\"Top 10 winningest countries in total medal count:\")\n",
    "print(top_countries)"
   ]
  },
  {
   "cell_type": "code",
   "execution_count": 23,
   "metadata": {
    "id": "EHZWAnPTGp1n"
   },
   "outputs": [
    {
     "name": "stdout",
     "output_type": "stream",
     "text": [
      "Number of medals awarded in the sport of trampolining: 30\n"
     ]
    }
   ],
   "source": [
    "# How many medals have been awarded in the sport of trampolining?\n",
    "trampolining_medals = df[df['Sport'] == 'Trampolining'].shape[0]\n",
    "print(f\"Number of medals awarded in the sport of trampolining: {trampolining_medals}\")"
   ]
  },
  {
   "cell_type": "markdown",
   "metadata": {
    "id": "ZCYOlu_rGp1n"
   },
   "source": [
    "# Level Up\n",
    "\n",
    "![](https://media.giphy.com/media/YYaapBJ7UAZp9DJS7o/giphy.gif)\n",
    "\n",
    "Want to Level Up your practice? We love to see it! Take a crack at some of these extra challenges, including visualizing some of this here data."
   ]
  },
  {
   "cell_type": "code",
   "execution_count": 26,
   "metadata": {
    "id": "lMXzRdowGp1n"
   },
   "outputs": [
    {
     "name": "stdout",
     "output_type": "stream",
     "text": [
      "Number of gold medals awarded to the United States: 0\n"
     ]
    }
   ],
   "source": [
    "# How many gold medals were awarded to the United States?\n",
    "us_gold_medals = df[(df['Medal'] == 'Gold') & (df['region'] == 'United States')].shape[0]\n",
    "print(f\"Number of gold medals awarded to the United States: {us_gold_medals}\")"
   ]
  },
  {
   "cell_type": "code",
   "execution_count": 27,
   "metadata": {
    "id": "qw0xCEBcGp1n"
   },
   "outputs": [
    {
     "name": "stdout",
     "output_type": "stream",
     "text": [
      "List of Olympics in dataset, starting with the most recent:\n",
      "['2016 Summer', '2014 Winter', '2012 Summer', '2010 Winter', '2008 Summer', '2006 Winter', '2004 Summer', '2002 Winter', '2000 Summer', '1998 Winter', '1996 Summer', '1994 Winter', '1992 Winter', '1992 Summer', '1988 Winter', '1988 Summer', '1984 Winter', '1984 Summer', '1980 Winter', '1980 Summer', '1976 Winter', '1976 Summer', '1972 Winter', '1972 Summer', '1968 Winter', '1968 Summer', '1964 Winter', '1964 Summer', '1960 Winter', '1960 Summer', '1956 Winter', '1956 Summer', '1952 Winter', '1952 Summer', '1948 Winter', '1948 Summer', '1936 Winter', '1936 Summer', '1932 Winter', '1932 Summer', '1928 Winter', '1928 Summer', '1924 Winter', '1924 Summer', '1920 Summer', '1912 Summer', '1908 Summer', '1906 Summer', '1904 Summer', '1900 Summer', '1896 Summer']\n"
     ]
    }
   ],
   "source": [
    "# List the Olympics in dataset, starting with the most recent\n",
    "olympics_list = df['Games'].unique()\n",
    "olympics_list_sorted = sorted(olympics_list, reverse=True)\n",
    "print(\"List of Olympics in dataset, starting with the most recent:\")\n",
    "print(olympics_list_sorted)"
   ]
  },
  {
   "cell_type": "code",
   "execution_count": 36,
   "metadata": {
    "id": "F06h7LoZGp1o"
   },
   "outputs": [
    {
     "name": "stdout",
     "output_type": "stream",
     "text": [
      "Average medalist height in the most recent Winter Olympics: nan cm\n"
     ]
    }
   ],
   "source": [
    "# Average medalist height in the most recent Winter Olympics\n",
    "recent_winter_height_avg = df[(df['Season'] == 'Winter') & (df['Games'] == olympics_list_sorted[0])]['Height'].mean()\n",
    "print(f\"Average medalist height in the most recent Winter Olympics: {recent_winter_height_avg:.2f} cm\")"
   ]
  },
  {
   "cell_type": "code",
   "execution_count": 30,
   "metadata": {
    "id": "JM4p-KcwX4SN"
   },
   "outputs": [
    {
     "name": "stdout",
     "output_type": "stream",
     "text": [
      "Average medalist weight in the most recent Winter Olympics: nan kg\n"
     ]
    }
   ],
   "source": [
    "# Average medalist weight in the most recent Winter Olympics\n",
    "recent_winter_weight_avg = df[(df['Season'] == 'Winter') & (df['Games'] == olympics_list_sorted[0])]['Weight'].mean()\n",
    "print(f\"Average medalist weight in the most recent Winter Olympics: {recent_winter_weight_avg:.2f} kg\")"
   ]
  },
  {
   "cell_type": "code",
   "execution_count": 32,
   "metadata": {
    "id": "gp80aZ4MGp1o"
   },
   "outputs": [
    {
     "name": "stdout",
     "output_type": "stream",
     "text": [
      "Average medalist height in the most recent Summer Olympics: 178.37 cm\n"
     ]
    }
   ],
   "source": [
    "# Average medalist height in the most recent Summer Olympics\n",
    "recent_summer_height_avg = df[(df['Season'] == 'Summer') & (df['Games'] == olympics_list_sorted[0])]['Height'].mean()\n",
    "print(f\"Average medalist height in the most recent Summer Olympics: {recent_summer_height_avg:.2f} cm\")"
   ]
  },
  {
   "cell_type": "code",
   "execution_count": 33,
   "metadata": {
    "id": "FhaUwoiCYONm"
   },
   "outputs": [
    {
     "name": "stdout",
     "output_type": "stream",
     "text": [
      "Average medalist weight in the most recent Summer Olympics: 73.96 kg\n"
     ]
    }
   ],
   "source": [
    "# Average medalist weight in the most recent Summer Olympics\n",
    "recent_summer_weight_avg = df[(df['Season'] == 'Summer') & (df['Games'] == olympics_list_sorted[0])]['Weight'].mean()\n",
    "print(f\"Average medalist weight in the most recent Summer Olympics: {recent_summer_weight_avg:.2f} kg\")"
   ]
  },
  {
   "cell_type": "code",
   "execution_count": null,
   "metadata": {
    "id": "fk958EO5Gp1o"
   },
   "outputs": [],
   "source": [
    "# Import plotly express library\n",
    "import plotly.express as px"
   ]
  },
  {
   "cell_type": "code",
   "execution_count": null,
   "metadata": {
    "id": "_cCbpCemGp1o"
   },
   "outputs": [],
   "source": [
    "# Assign top 10 winningest countries table to a variable\n",
    "# You did this in task 3\n",
    "top_countries = df['Region'].value_counts().head(10)"
   ]
  },
  {
   "cell_type": "code",
   "execution_count": 43,
   "metadata": {
    "id": "GKJw99hAGp1o"
   },
   "outputs": [
    {
     "data": {
      "application/vnd.plotly.v1+json": {
       "config": {
        "plotlyServerURL": "https://plot.ly"
       },
       "data": [
        {
         "alignmentgroup": "True",
         "hovertemplate": "index=%{x}<br>Medal Count=%{y}<extra></extra>",
         "legendgroup": "",
         "marker": {
          "color": "#636efa",
          "pattern": {
           "shape": ""
          }
         },
         "name": "",
         "offsetgroup": "",
         "orientation": "v",
         "showlegend": false,
         "textposition": "auto",
         "type": "bar",
         "x": [
          "USA",
          "Russia",
          "Germany",
          "UK",
          "France",
          "Italy",
          "Sweden",
          "Canada",
          "Australia",
          "Hungary"
         ],
         "xaxis": "x",
         "y": [
          5637,
          3947,
          3756,
          2068,
          1777,
          1637,
          1536,
          1352,
          1349,
          1135
         ],
         "yaxis": "y"
        }
       ],
       "layout": {
        "autosize": true,
        "barmode": "relative",
        "legend": {
         "tracegroupgap": 0
        },
        "margin": {
         "t": 60
        },
        "template": {
         "data": {
          "bar": [
           {
            "error_x": {
             "color": "#2a3f5f"
            },
            "error_y": {
             "color": "#2a3f5f"
            },
            "marker": {
             "line": {
              "color": "#E5ECF6",
              "width": 0.5
             },
             "pattern": {
              "fillmode": "overlay",
              "size": 10,
              "solidity": 0.2
             }
            },
            "type": "bar"
           }
          ],
          "barpolar": [
           {
            "marker": {
             "line": {
              "color": "#E5ECF6",
              "width": 0.5
             },
             "pattern": {
              "fillmode": "overlay",
              "size": 10,
              "solidity": 0.2
             }
            },
            "type": "barpolar"
           }
          ],
          "carpet": [
           {
            "aaxis": {
             "endlinecolor": "#2a3f5f",
             "gridcolor": "white",
             "linecolor": "white",
             "minorgridcolor": "white",
             "startlinecolor": "#2a3f5f"
            },
            "baxis": {
             "endlinecolor": "#2a3f5f",
             "gridcolor": "white",
             "linecolor": "white",
             "minorgridcolor": "white",
             "startlinecolor": "#2a3f5f"
            },
            "type": "carpet"
           }
          ],
          "choropleth": [
           {
            "colorbar": {
             "outlinewidth": 0,
             "ticks": ""
            },
            "type": "choropleth"
           }
          ],
          "contour": [
           {
            "colorbar": {
             "outlinewidth": 0,
             "ticks": ""
            },
            "colorscale": [
             [
              0,
              "#0d0887"
             ],
             [
              0.1111111111111111,
              "#46039f"
             ],
             [
              0.2222222222222222,
              "#7201a8"
             ],
             [
              0.3333333333333333,
              "#9c179e"
             ],
             [
              0.4444444444444444,
              "#bd3786"
             ],
             [
              0.5555555555555556,
              "#d8576b"
             ],
             [
              0.6666666666666666,
              "#ed7953"
             ],
             [
              0.7777777777777778,
              "#fb9f3a"
             ],
             [
              0.8888888888888888,
              "#fdca26"
             ],
             [
              1,
              "#f0f921"
             ]
            ],
            "type": "contour"
           }
          ],
          "contourcarpet": [
           {
            "colorbar": {
             "outlinewidth": 0,
             "ticks": ""
            },
            "type": "contourcarpet"
           }
          ],
          "heatmap": [
           {
            "colorbar": {
             "outlinewidth": 0,
             "ticks": ""
            },
            "colorscale": [
             [
              0,
              "#0d0887"
             ],
             [
              0.1111111111111111,
              "#46039f"
             ],
             [
              0.2222222222222222,
              "#7201a8"
             ],
             [
              0.3333333333333333,
              "#9c179e"
             ],
             [
              0.4444444444444444,
              "#bd3786"
             ],
             [
              0.5555555555555556,
              "#d8576b"
             ],
             [
              0.6666666666666666,
              "#ed7953"
             ],
             [
              0.7777777777777778,
              "#fb9f3a"
             ],
             [
              0.8888888888888888,
              "#fdca26"
             ],
             [
              1,
              "#f0f921"
             ]
            ],
            "type": "heatmap"
           }
          ],
          "heatmapgl": [
           {
            "colorbar": {
             "outlinewidth": 0,
             "ticks": ""
            },
            "colorscale": [
             [
              0,
              "#0d0887"
             ],
             [
              0.1111111111111111,
              "#46039f"
             ],
             [
              0.2222222222222222,
              "#7201a8"
             ],
             [
              0.3333333333333333,
              "#9c179e"
             ],
             [
              0.4444444444444444,
              "#bd3786"
             ],
             [
              0.5555555555555556,
              "#d8576b"
             ],
             [
              0.6666666666666666,
              "#ed7953"
             ],
             [
              0.7777777777777778,
              "#fb9f3a"
             ],
             [
              0.8888888888888888,
              "#fdca26"
             ],
             [
              1,
              "#f0f921"
             ]
            ],
            "type": "heatmapgl"
           }
          ],
          "histogram": [
           {
            "marker": {
             "pattern": {
              "fillmode": "overlay",
              "size": 10,
              "solidity": 0.2
             }
            },
            "type": "histogram"
           }
          ],
          "histogram2d": [
           {
            "colorbar": {
             "outlinewidth": 0,
             "ticks": ""
            },
            "colorscale": [
             [
              0,
              "#0d0887"
             ],
             [
              0.1111111111111111,
              "#46039f"
             ],
             [
              0.2222222222222222,
              "#7201a8"
             ],
             [
              0.3333333333333333,
              "#9c179e"
             ],
             [
              0.4444444444444444,
              "#bd3786"
             ],
             [
              0.5555555555555556,
              "#d8576b"
             ],
             [
              0.6666666666666666,
              "#ed7953"
             ],
             [
              0.7777777777777778,
              "#fb9f3a"
             ],
             [
              0.8888888888888888,
              "#fdca26"
             ],
             [
              1,
              "#f0f921"
             ]
            ],
            "type": "histogram2d"
           }
          ],
          "histogram2dcontour": [
           {
            "colorbar": {
             "outlinewidth": 0,
             "ticks": ""
            },
            "colorscale": [
             [
              0,
              "#0d0887"
             ],
             [
              0.1111111111111111,
              "#46039f"
             ],
             [
              0.2222222222222222,
              "#7201a8"
             ],
             [
              0.3333333333333333,
              "#9c179e"
             ],
             [
              0.4444444444444444,
              "#bd3786"
             ],
             [
              0.5555555555555556,
              "#d8576b"
             ],
             [
              0.6666666666666666,
              "#ed7953"
             ],
             [
              0.7777777777777778,
              "#fb9f3a"
             ],
             [
              0.8888888888888888,
              "#fdca26"
             ],
             [
              1,
              "#f0f921"
             ]
            ],
            "type": "histogram2dcontour"
           }
          ],
          "mesh3d": [
           {
            "colorbar": {
             "outlinewidth": 0,
             "ticks": ""
            },
            "type": "mesh3d"
           }
          ],
          "parcoords": [
           {
            "line": {
             "colorbar": {
              "outlinewidth": 0,
              "ticks": ""
             }
            },
            "type": "parcoords"
           }
          ],
          "pie": [
           {
            "automargin": true,
            "type": "pie"
           }
          ],
          "scatter": [
           {
            "marker": {
             "colorbar": {
              "outlinewidth": 0,
              "ticks": ""
             }
            },
            "type": "scatter"
           }
          ],
          "scatter3d": [
           {
            "line": {
             "colorbar": {
              "outlinewidth": 0,
              "ticks": ""
             }
            },
            "marker": {
             "colorbar": {
              "outlinewidth": 0,
              "ticks": ""
             }
            },
            "type": "scatter3d"
           }
          ],
          "scattercarpet": [
           {
            "marker": {
             "colorbar": {
              "outlinewidth": 0,
              "ticks": ""
             }
            },
            "type": "scattercarpet"
           }
          ],
          "scattergeo": [
           {
            "marker": {
             "colorbar": {
              "outlinewidth": 0,
              "ticks": ""
             }
            },
            "type": "scattergeo"
           }
          ],
          "scattergl": [
           {
            "marker": {
             "colorbar": {
              "outlinewidth": 0,
              "ticks": ""
             }
            },
            "type": "scattergl"
           }
          ],
          "scattermapbox": [
           {
            "marker": {
             "colorbar": {
              "outlinewidth": 0,
              "ticks": ""
             }
            },
            "type": "scattermapbox"
           }
          ],
          "scatterpolar": [
           {
            "marker": {
             "colorbar": {
              "outlinewidth": 0,
              "ticks": ""
             }
            },
            "type": "scatterpolar"
           }
          ],
          "scatterpolargl": [
           {
            "marker": {
             "colorbar": {
              "outlinewidth": 0,
              "ticks": ""
             }
            },
            "type": "scatterpolargl"
           }
          ],
          "scatterternary": [
           {
            "marker": {
             "colorbar": {
              "outlinewidth": 0,
              "ticks": ""
             }
            },
            "type": "scatterternary"
           }
          ],
          "surface": [
           {
            "colorbar": {
             "outlinewidth": 0,
             "ticks": ""
            },
            "colorscale": [
             [
              0,
              "#0d0887"
             ],
             [
              0.1111111111111111,
              "#46039f"
             ],
             [
              0.2222222222222222,
              "#7201a8"
             ],
             [
              0.3333333333333333,
              "#9c179e"
             ],
             [
              0.4444444444444444,
              "#bd3786"
             ],
             [
              0.5555555555555556,
              "#d8576b"
             ],
             [
              0.6666666666666666,
              "#ed7953"
             ],
             [
              0.7777777777777778,
              "#fb9f3a"
             ],
             [
              0.8888888888888888,
              "#fdca26"
             ],
             [
              1,
              "#f0f921"
             ]
            ],
            "type": "surface"
           }
          ],
          "table": [
           {
            "cells": {
             "fill": {
              "color": "#EBF0F8"
             },
             "line": {
              "color": "white"
             }
            },
            "header": {
             "fill": {
              "color": "#C8D4E3"
             },
             "line": {
              "color": "white"
             }
            },
            "type": "table"
           }
          ]
         },
         "layout": {
          "annotationdefaults": {
           "arrowcolor": "#2a3f5f",
           "arrowhead": 0,
           "arrowwidth": 1
          },
          "autotypenumbers": "strict",
          "coloraxis": {
           "colorbar": {
            "outlinewidth": 0,
            "ticks": ""
           }
          },
          "colorscale": {
           "diverging": [
            [
             0,
             "#8e0152"
            ],
            [
             0.1,
             "#c51b7d"
            ],
            [
             0.2,
             "#de77ae"
            ],
            [
             0.3,
             "#f1b6da"
            ],
            [
             0.4,
             "#fde0ef"
            ],
            [
             0.5,
             "#f7f7f7"
            ],
            [
             0.6,
             "#e6f5d0"
            ],
            [
             0.7,
             "#b8e186"
            ],
            [
             0.8,
             "#7fbc41"
            ],
            [
             0.9,
             "#4d9221"
            ],
            [
             1,
             "#276419"
            ]
           ],
           "sequential": [
            [
             0,
             "#0d0887"
            ],
            [
             0.1111111111111111,
             "#46039f"
            ],
            [
             0.2222222222222222,
             "#7201a8"
            ],
            [
             0.3333333333333333,
             "#9c179e"
            ],
            [
             0.4444444444444444,
             "#bd3786"
            ],
            [
             0.5555555555555556,
             "#d8576b"
            ],
            [
             0.6666666666666666,
             "#ed7953"
            ],
            [
             0.7777777777777778,
             "#fb9f3a"
            ],
            [
             0.8888888888888888,
             "#fdca26"
            ],
            [
             1,
             "#f0f921"
            ]
           ],
           "sequentialminus": [
            [
             0,
             "#0d0887"
            ],
            [
             0.1111111111111111,
             "#46039f"
            ],
            [
             0.2222222222222222,
             "#7201a8"
            ],
            [
             0.3333333333333333,
             "#9c179e"
            ],
            [
             0.4444444444444444,
             "#bd3786"
            ],
            [
             0.5555555555555556,
             "#d8576b"
            ],
            [
             0.6666666666666666,
             "#ed7953"
            ],
            [
             0.7777777777777778,
             "#fb9f3a"
            ],
            [
             0.8888888888888888,
             "#fdca26"
            ],
            [
             1,
             "#f0f921"
            ]
           ]
          },
          "colorway": [
           "#636efa",
           "#EF553B",
           "#00cc96",
           "#ab63fa",
           "#FFA15A",
           "#19d3f3",
           "#FF6692",
           "#B6E880",
           "#FF97FF",
           "#FECB52"
          ],
          "font": {
           "color": "#2a3f5f"
          },
          "geo": {
           "bgcolor": "white",
           "lakecolor": "white",
           "landcolor": "#E5ECF6",
           "showlakes": true,
           "showland": true,
           "subunitcolor": "white"
          },
          "hoverlabel": {
           "align": "left"
          },
          "hovermode": "closest",
          "mapbox": {
           "style": "light"
          },
          "paper_bgcolor": "white",
          "plot_bgcolor": "#E5ECF6",
          "polar": {
           "angularaxis": {
            "gridcolor": "white",
            "linecolor": "white",
            "ticks": ""
           },
           "bgcolor": "#E5ECF6",
           "radialaxis": {
            "gridcolor": "white",
            "linecolor": "white",
            "ticks": ""
           }
          },
          "scene": {
           "xaxis": {
            "backgroundcolor": "#E5ECF6",
            "gridcolor": "white",
            "gridwidth": 2,
            "linecolor": "white",
            "showbackground": true,
            "ticks": "",
            "zerolinecolor": "white"
           },
           "yaxis": {
            "backgroundcolor": "#E5ECF6",
            "gridcolor": "white",
            "gridwidth": 2,
            "linecolor": "white",
            "showbackground": true,
            "ticks": "",
            "zerolinecolor": "white"
           },
           "zaxis": {
            "backgroundcolor": "#E5ECF6",
            "gridcolor": "white",
            "gridwidth": 2,
            "linecolor": "white",
            "showbackground": true,
            "ticks": "",
            "zerolinecolor": "white"
           }
          },
          "shapedefaults": {
           "line": {
            "color": "#2a3f5f"
           }
          },
          "ternary": {
           "aaxis": {
            "gridcolor": "white",
            "linecolor": "white",
            "ticks": ""
           },
           "baxis": {
            "gridcolor": "white",
            "linecolor": "white",
            "ticks": ""
           },
           "bgcolor": "#E5ECF6",
           "caxis": {
            "gridcolor": "white",
            "linecolor": "white",
            "ticks": ""
           }
          },
          "title": {
           "x": 0.05
          },
          "xaxis": {
           "automargin": true,
           "gridcolor": "white",
           "linecolor": "white",
           "ticks": "",
           "title": {
            "standoff": 15
           },
           "zerolinecolor": "white",
           "zerolinewidth": 2
          },
          "yaxis": {
           "automargin": true,
           "gridcolor": "white",
           "linecolor": "white",
           "ticks": "",
           "title": {
            "standoff": 15
           },
           "zerolinecolor": "white",
           "zerolinewidth": 2
          }
         }
        },
        "title": {
         "text": "Top 10 Winningest Countries in Total Medal Count"
        },
        "xaxis": {
         "anchor": "y",
         "autorange": true,
         "domain": [
          0,
          1
         ],
         "range": [
          -0.5,
          9.5
         ],
         "title": {
          "text": "index"
         },
         "type": "category"
        },
        "yaxis": {
         "anchor": "x",
         "autorange": true,
         "domain": [
          0,
          1
         ],
         "range": [
          0,
          5933.684210526316
         ],
         "title": {
          "text": "Medal Count"
         },
         "type": "linear"
        }
       }
      },
      "image/png": "[encoded data removed]",
      "text/html": [
       "<div>                            <div id=\"39abac85-d1a6-4e61-bf10-cb9dfad0ce75\" class=\"plotly-graph-div\" style=\"height:525px; width:100%;\"></div>            <script type=\"text/javascript\">                require([\"plotly\"], function(Plotly) {                    window.PLOTLYENV=window.PLOTLYENV || {};                                    if (document.getElementById(\"39abac85-d1a6-4e61-bf10-cb9dfad0ce75\")) {                    Plotly.newPlot(                        \"39abac85-d1a6-4e61-bf10-cb9dfad0ce75\",                        [{\"alignmentgroup\":\"True\",\"hovertemplate\":\"index=%{x}<br>Medal Count=%{y}<extra></extra>\",\"legendgroup\":\"\",\"marker\":{\"color\":\"#636efa\",\"pattern\":{\"shape\":\"\"}},\"name\":\"\",\"offsetgroup\":\"\",\"orientation\":\"v\",\"showlegend\":false,\"textposition\":\"auto\",\"x\":[\"USA\",\"Russia\",\"Germany\",\"UK\",\"France\",\"Italy\",\"Sweden\",\"Canada\",\"Australia\",\"Hungary\"],\"xaxis\":\"x\",\"y\":[5637,3947,3756,2068,1777,1637,1536,1352,1349,1135],\"yaxis\":\"y\",\"type\":\"bar\"}],                        {\"template\":{\"data\":{\"bar\":[{\"error_x\":{\"color\":\"#2a3f5f\"},\"error_y\":{\"color\":\"#2a3f5f\"},\"marker\":{\"line\":{\"color\":\"#E5ECF6\",\"width\":0.5},\"pattern\":{\"fillmode\":\"overlay\",\"size\":10,\"solidity\":0.2}},\"type\":\"bar\"}],\"barpolar\":[{\"marker\":{\"line\":{\"color\":\"#E5ECF6\",\"width\":0.5},\"pattern\":{\"fillmode\":\"overlay\",\"size\":10,\"solidity\":0.2}},\"type\":\"barpolar\"}],\"carpet\":[{\"aaxis\":{\"endlinecolor\":\"#2a3f5f\",\"gridcolor\":\"white\",\"linecolor\":\"white\",\"minorgridcolor\":\"white\",\"startlinecolor\":\"#2a3f5f\"},\"baxis\":{\"endlinecolor\":\"#2a3f5f\",\"gridcolor\":\"white\",\"linecolor\":\"white\",\"minorgridcolor\":\"white\",\"startlinecolor\":\"#2a3f5f\"},\"type\":\"carpet\"}],\"choropleth\":[{\"colorbar\":{\"outlinewidth\":0,\"ticks\":\"\"},\"type\":\"choropleth\"}],\"contour\":[{\"colorbar\":{\"outlinewidth\":0,\"ticks\":\"\"},\"colorscale\":[[0.0,\"#0d0887\"],[0.1111111111111111,\"#46039f\"],[0.2222222222222222,\"#7201a8\"],[0.3333333333333333,\"#9c179e\"],[0.4444444444444444,\"#bd3786\"],[0.5555555555555556,\"#d8576b\"],[0.6666666666666666,\"#ed7953\"],[0.7777777777777778,\"#fb9f3a\"],[0.8888888888888888,\"#fdca26\"],[1.0,\"#f0f921\"]],\"type\":\"contour\"}],\"contourcarpet\":[{\"colorbar\":{\"outlinewidth\":0,\"ticks\":\"\"},\"type\":\"contourcarpet\"}],\"heatmap\":[{\"colorbar\":{\"outlinewidth\":0,\"ticks\":\"\"},\"colorscale\":[[0.0,\"#0d0887\"],[0.1111111111111111,\"#46039f\"],[0.2222222222222222,\"#7201a8\"],[0.3333333333333333,\"#9c179e\"],[0.4444444444444444,\"#bd3786\"],[0.5555555555555556,\"#d8576b\"],[0.6666666666666666,\"#ed7953\"],[0.7777777777777778,\"#fb9f3a\"],[0.8888888888888888,\"#fdca26\"],[1.0,\"#f0f921\"]],\"type\":\"heatmap\"}],\"heatmapgl\":[{\"colorbar\":{\"outlinewidth\":0,\"ticks\":\"\"},\"colorscale\":[[0.0,\"#0d0887\"],[0.1111111111111111,\"#46039f\"],[0.2222222222222222,\"#7201a8\"],[0.3333333333333333,\"#9c179e\"],[0.4444444444444444,\"#bd3786\"],[0.5555555555555556,\"#d8576b\"],[0.6666666666666666,\"#ed7953\"],[0.7777777777777778,\"#fb9f3a\"],[0.8888888888888888,\"#fdca26\"],[1.0,\"#f0f921\"]],\"type\":\"heatmapgl\"}],\"histogram\":[{\"marker\":{\"pattern\":{\"fillmode\":\"overlay\",\"size\":10,\"solidity\":0.2}},\"type\":\"histogram\"}],\"histogram2d\":[{\"colorbar\":{\"outlinewidth\":0,\"ticks\":\"\"},\"colorscale\":[[0.0,\"#0d0887\"],[0.1111111111111111,\"#46039f\"],[0.2222222222222222,\"#7201a8\"],[0.3333333333333333,\"#9c179e\"],[0.4444444444444444,\"#bd3786\"],[0.5555555555555556,\"#d8576b\"],[0.6666666666666666,\"#ed7953\"],[0.7777777777777778,\"#fb9f3a\"],[0.8888888888888888,\"#fdca26\"],[1.0,\"#f0f921\"]],\"type\":\"histogram2d\"}],\"histogram2dcontour\":[{\"colorbar\":{\"outlinewidth\":0,\"ticks\":\"\"},\"colorscale\":[[0.0,\"#0d0887\"],[0.1111111111111111,\"#46039f\"],[0.2222222222222222,\"#7201a8\"],[0.3333333333333333,\"#9c179e\"],[0.4444444444444444,\"#bd3786\"],[0.5555555555555556,\"#d8576b\"],[0.6666666666666666,\"#ed7953\"],[0.7777777777777778,\"#fb9f3a\"],[0.8888888888888888,\"#fdca26\"],[1.0,\"#f0f921\"]],\"type\":\"histogram2dcontour\"}],\"mesh3d\":[{\"colorbar\":{\"outlinewidth\":0,\"ticks\":\"\"},\"type\":\"mesh3d\"}],\"parcoords\":[{\"line\":{\"colorbar\":{\"outlinewidth\":0,\"ticks\":\"\"}},\"type\":\"parcoords\"}],\"pie\":[{\"automargin\":true,\"type\":\"pie\"}],\"scatter\":[{\"marker\":{\"colorbar\":{\"outlinewidth\":0,\"ticks\":\"\"}},\"type\":\"scatter\"}],\"scatter3d\":[{\"line\":{\"colorbar\":{\"outlinewidth\":0,\"ticks\":\"\"}},\"marker\":{\"colorbar\":{\"outlinewidth\":0,\"ticks\":\"\"}},\"type\":\"scatter3d\"}],\"scattercarpet\":[{\"marker\":{\"colorbar\":{\"outlinewidth\":0,\"ticks\":\"\"}},\"type\":\"scattercarpet\"}],\"scattergeo\":[{\"marker\":{\"colorbar\":{\"outlinewidth\":0,\"ticks\":\"\"}},\"type\":\"scattergeo\"}],\"scattergl\":[{\"marker\":{\"colorbar\":{\"outlinewidth\":0,\"ticks\":\"\"}},\"type\":\"scattergl\"}],\"scattermapbox\":[{\"marker\":{\"colorbar\":{\"outlinewidth\":0,\"ticks\":\"\"}},\"type\":\"scattermapbox\"}],\"scatterpolar\":[{\"marker\":{\"colorbar\":{\"outlinewidth\":0,\"ticks\":\"\"}},\"type\":\"scatterpolar\"}],\"scatterpolargl\":[{\"marker\":{\"colorbar\":{\"outlinewidth\":0,\"ticks\":\"\"}},\"type\":\"scatterpolargl\"}],\"scatterternary\":[{\"marker\":{\"colorbar\":{\"outlinewidth\":0,\"ticks\":\"\"}},\"type\":\"scatterternary\"}],\"surface\":[{\"colorbar\":{\"outlinewidth\":0,\"ticks\":\"\"},\"colorscale\":[[0.0,\"#0d0887\"],[0.1111111111111111,\"#46039f\"],[0.2222222222222222,\"#7201a8\"],[0.3333333333333333,\"#9c179e\"],[0.4444444444444444,\"#bd3786\"],[0.5555555555555556,\"#d8576b\"],[0.6666666666666666,\"#ed7953\"],[0.7777777777777778,\"#fb9f3a\"],[0.8888888888888888,\"#fdca26\"],[1.0,\"#f0f921\"]],\"type\":\"surface\"}],\"table\":[{\"cells\":{\"fill\":{\"color\":\"#EBF0F8\"},\"line\":{\"color\":\"white\"}},\"header\":{\"fill\":{\"color\":\"#C8D4E3\"},\"line\":{\"color\":\"white\"}},\"type\":\"table\"}]},\"layout\":{\"annotationdefaults\":{\"arrowcolor\":\"#2a3f5f\",\"arrowhead\":0,\"arrowwidth\":1},\"autotypenumbers\":\"strict\",\"coloraxis\":{\"colorbar\":{\"outlinewidth\":0,\"ticks\":\"\"}},\"colorscale\":{\"diverging\":[[0,\"#8e0152\"],[0.1,\"#c51b7d\"],[0.2,\"#de77ae\"],[0.3,\"#f1b6da\"],[0.4,\"#fde0ef\"],[0.5,\"#f7f7f7\"],[0.6,\"#e6f5d0\"],[0.7,\"#b8e186\"],[0.8,\"#7fbc41\"],[0.9,\"#4d9221\"],[1,\"#276419\"]],\"sequential\":[[0.0,\"#0d0887\"],[0.1111111111111111,\"#46039f\"],[0.2222222222222222,\"#7201a8\"],[0.3333333333333333,\"#9c179e\"],[0.4444444444444444,\"#bd3786\"],[0.5555555555555556,\"#d8576b\"],[0.6666666666666666,\"#ed7953\"],[0.7777777777777778,\"#fb9f3a\"],[0.8888888888888888,\"#fdca26\"],[1.0,\"#f0f921\"]],\"sequentialminus\":[[0.0,\"#0d0887\"],[0.1111111111111111,\"#46039f\"],[0.2222222222222222,\"#7201a8\"],[0.3333333333333333,\"#9c179e\"],[0.4444444444444444,\"#bd3786\"],[0.5555555555555556,\"#d8576b\"],[0.6666666666666666,\"#ed7953\"],[0.7777777777777778,\"#fb9f3a\"],[0.8888888888888888,\"#fdca26\"],[1.0,\"#f0f921\"]]},\"colorway\":[\"#636efa\",\"#EF553B\",\"#00cc96\",\"#ab63fa\",\"#FFA15A\",\"#19d3f3\",\"#FF6692\",\"#B6E880\",\"#FF97FF\",\"#FECB52\"],\"font\":{\"color\":\"#2a3f5f\"},\"geo\":{\"bgcolor\":\"white\",\"lakecolor\":\"white\",\"landcolor\":\"#E5ECF6\",\"showlakes\":true,\"showland\":true,\"subunitcolor\":\"white\"},\"hoverlabel\":{\"align\":\"left\"},\"hovermode\":\"closest\",\"mapbox\":{\"style\":\"light\"},\"paper_bgcolor\":\"white\",\"plot_bgcolor\":\"#E5ECF6\",\"polar\":{\"angularaxis\":{\"gridcolor\":\"white\",\"linecolor\":\"white\",\"ticks\":\"\"},\"bgcolor\":\"#E5ECF6\",\"radialaxis\":{\"gridcolor\":\"white\",\"linecolor\":\"white\",\"ticks\":\"\"}},\"scene\":{\"xaxis\":{\"backgroundcolor\":\"#E5ECF6\",\"gridcolor\":\"white\",\"gridwidth\":2,\"linecolor\":\"white\",\"showbackground\":true,\"ticks\":\"\",\"zerolinecolor\":\"white\"},\"yaxis\":{\"backgroundcolor\":\"#E5ECF6\",\"gridcolor\":\"white\",\"gridwidth\":2,\"linecolor\":\"white\",\"showbackground\":true,\"ticks\":\"\",\"zerolinecolor\":\"white\"},\"zaxis\":{\"backgroundcolor\":\"#E5ECF6\",\"gridcolor\":\"white\",\"gridwidth\":2,\"linecolor\":\"white\",\"showbackground\":true,\"ticks\":\"\",\"zerolinecolor\":\"white\"}},\"shapedefaults\":{\"line\":{\"color\":\"#2a3f5f\"}},\"ternary\":{\"aaxis\":{\"gridcolor\":\"white\",\"linecolor\":\"white\",\"ticks\":\"\"},\"baxis\":{\"gridcolor\":\"white\",\"linecolor\":\"white\",\"ticks\":\"\"},\"bgcolor\":\"#E5ECF6\",\"caxis\":{\"gridcolor\":\"white\",\"linecolor\":\"white\",\"ticks\":\"\"}},\"title\":{\"x\":0.05},\"xaxis\":{\"automargin\":true,\"gridcolor\":\"white\",\"linecolor\":\"white\",\"ticks\":\"\",\"title\":{\"standoff\":15},\"zerolinecolor\":\"white\",\"zerolinewidth\":2},\"yaxis\":{\"automargin\":true,\"gridcolor\":\"white\",\"linecolor\":\"white\",\"ticks\":\"\",\"title\":{\"standoff\":15},\"zerolinecolor\":\"white\",\"zerolinewidth\":2}}},\"xaxis\":{\"anchor\":\"y\",\"domain\":[0.0,1.0],\"title\":{\"text\":\"index\"}},\"yaxis\":{\"anchor\":\"x\",\"domain\":[0.0,1.0],\"title\":{\"text\":\"Medal Count\"}},\"legend\":{\"tracegroupgap\":0},\"margin\":{\"t\":60},\"barmode\":\"relative\",\"title\":{\"text\":\"Top 10 Winningest Countries in Total Medal Count\"}},                        {\"responsive\": true}                    ).then(function(){\n",
       "                            \n",
       "var gd = document.getElementById('39abac85-d1a6-4e61-bf10-cb9dfad0ce75');\n",
       "var x = new MutationObserver(function (mutations, observer) {{\n",
       "        var display = window.getComputedStyle(gd).display;\n",
       "        if (!display || display === 'none') {{\n",
       "            console.log([gd, 'removed!']);\n",
       "            Plotly.purge(gd);\n",
       "            observer.disconnect();\n",
       "        }}\n",
       "}});\n",
       "\n",
       "// Listen for the removal of the full notebook cells\n",
       "var notebookContainer = gd.closest('#notebook-container');\n",
       "if (notebookContainer) {{\n",
       "    x.observe(notebookContainer, {childList: true});\n",
       "}}\n",
       "\n",
       "// Listen for the clearing of the current output cell\n",
       "var outputEl = gd.closest('.output');\n",
       "if (outputEl) {{\n",
       "    x.observe(outputEl, {childList: true});\n",
       "}}\n",
       "\n",
       "                        })                };                });            </script>        </div>"
      ]
     },
     "metadata": {},
     "output_type": "display_data"
    }
   ],
   "source": [
    "# Import plotly express library\n",
    "import plotly.express as px\n",
    "\n",
    "# Assign top 10 winningest countries table to a variable\n",
    "top_countries = df['region'].value_counts().head(10)\n",
    "\n",
    "# Visualize the table as a bar chart\n",
    "fig = px.bar(top_countries, x=top_countries.index, y=top_countries.values, labels={'x':'Country', 'y':'Medal Count'})\n",
    "fig.update_layout(title='Top 10 Winningest Countries in Total Medal Count')\n",
    "fig.show()"
   ]
  },
  {
   "cell_type": "code",
   "execution_count": null,
   "metadata": {
    "id": "g4-melLaGp1p"
   },
   "outputs": [],
   "source": []
  }
 ],
 "metadata": {
  "colab": {
   "provenance": []
  },
  "kernelspec": {
   "display_name": "Python 3 (ipykernel)",
   "language": "python",
   "name": "python3"
  },
  "language_info": {
   "codemirror_mode": {
    "name": "ipython",
    "version": 3
   },
   "file_extension": ".py",
   "mimetype": "text/x-python",
   "name": "python",
   "nbconvert_exporter": "python",
   "pygments_lexer": "ipython3",
   "version": "3.10.6"
  },
  "nteract": {
   "version": "0.28.0"
  }
 },
 "nbformat": 4,
 "nbformat_minor": 4
}
