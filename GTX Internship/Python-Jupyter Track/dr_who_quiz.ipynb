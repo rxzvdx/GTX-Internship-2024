{
 "cells": [
  {
   "cell_type": "markdown",
   "metadata": {
    "id": "2EJ62HHZsadz"
   },
   "source": [
    "<img src='images/DR_WHO.png' width=675, height=540>"
   ]
  },
  {
   "cell_type": "markdown",
   "metadata": {
    "id": "0c_lTUGOsad3"
   },
   "source": [
    "In this Mid-Experience Project, you will create a personality quiz  to determine whether a user is more similar to Dr. Crider or to Dr. Alvarez.\n",
    "\n",
    "First, take a look at what the game would look like. Look at the screenshot! You can see that there are **five** questions, each with **two possible** answers. For example, the first question is about pizza toppings, and it has olives and pineapple as its answers. The user must choose one of the two.\n",
    "\n",
    "At the end of the five questions, the answers are tallied, and the computer announces who the user is more similar to: Dr. Crider or Dr. Alvarez.\n"
   ]
  },
  {
   "cell_type": "markdown",
   "metadata": {
    "id": "80uhwruDsad3"
   },
   "source": [
    "<img src='images/dr_who_helper_image.png' width=600, height=400>\n",
    "\n",
    "You'll see that the quiz is written as a function called `dr_who_quiz`. This function takes in two arguments: one called `question_bank` and the other called `answer_bank`.\n",
    "\n",
    "<span style='background :#FFF59E'>These are given to you, and you do not need to modify them. But you do need to understand how they work! Run the following cell to load the question and answer banks into your Notebook. </span>"
   ]
  },
  {
   "cell_type": "code",
   "execution_count": 3,
   "metadata": {
    "id": "9efEvfNLsad4"
   },
   "outputs": [],
   "source": [
    "# load data\n",
    "import sys\n",
    "sys.path.append('./files')\n",
    "\n",
    "from dr_who_setup import question_bank, answer_bank"
   ]
  },
  {
   "cell_type": "markdown",
   "metadata": {
    "id": "YQUVI91hsad5"
   },
   "source": [
    "Now let's see how these dictionaries structured, starting with `question_bank`.\n",
    "- The *keys* in the `question_bank` dictionary are the questions\n",
    "- and the *values* in the `question_bank` dictionary are the two possible answers.\n",
    "\n",
    "Let's display the `question_bank` dictionary so we can inspect it 🔍\n",
    "\n",
    "<span style='background :#FFF59E'>**Note**: the `display` function just gives us a prettier output here! You won't be expected to know this function.</span>"
   ]
  },
  {
   "cell_type": "code",
   "execution_count": 4,
   "metadata": {
    "id": "zDLO7SLHsad5"
   },
   "outputs": [
    {
     "data": {
      "text/plain": [
       "{'Which is better on a pizza?': ['OLIVES', 'PINEAPPLE'],\n",
       " 'Where would you rather be?': ['MOUNTAIN', 'BEACH'],\n",
       " 'Night Owl or Morning Lark?': ['NIGHT', 'MORNING'],\n",
       " 'Best way to eat an ice cream?': ['CONE', 'CUP'],\n",
       " 'What do you prefer to wear?': ['SWEATPANTS', 'JEANS']}"
      ]
     },
     "metadata": {},
     "output_type": "display_data"
    }
   ],
   "source": [
    "# Question bank for Dr. Who Personality Quiz\n",
    "# Run this cell!\n",
    "display(question_bank)"
   ]
  },
  {
   "cell_type": "markdown",
   "metadata": {
    "id": "Pfq9ZkpOsad6"
   },
   "source": [
    "Great! So each question asked to the user in the Dr. Who game draws upon a key-value pair in the `question_bank` dictionary.\n",
    "\n",
    "Let's now look at the `answers_bank` dictionary.\n",
    "- The *keys* in the `answer_bank` dictionary are 'Dr. Alvarez' and 'Dr. Crider'\n",
    "- and the *values* in the `answer_bank` dictionary are their answers to the questions, stored as a list!\n",
    "\n",
    "Let's display the `answer_bank` dictionary so we can inspect it 🔍"
   ]
  },
  {
   "cell_type": "code",
   "execution_count": 5,
   "metadata": {
    "id": "UYzEKl_Psad6"
   },
   "outputs": [
    {
     "data": {
      "text/plain": [
       "{'Dr. Alvarez': ['PINEAPPLE', 'BEACH', 'NIGHT', 'CONE', 'JEANS'],\n",
       " 'Dr. Crider': ['OLIVES', 'MOUNTAIN', 'MORNING', 'CUP', 'SWEATPANTS']}"
      ]
     },
     "metadata": {},
     "output_type": "display_data"
    }
   ],
   "source": [
    "# Answer bank for Dr. Who Personality Quiz\n",
    "# Run this cell!\n",
    "display(answer_bank)"
   ]
  },
  {
   "cell_type": "markdown",
   "metadata": {
    "id": "UV5Wn_XLsad7"
   },
   "source": [
    "So Dr. Alvarez's answers to each of the five questions are 'PINEAPPLE', 'BEACH', 'NIGHT', 'CONE', and 'JEANS'.\n",
    "\n",
    "Notice that in both `question_bank` and `answer_bank`, all the options are in **capital letters**.\n",
    "\n",
    "Great. Now that we understand *how* the Dr. Who? Quiz is going to work in Python, let's get to coding it!\n",
    "\n",
    "![](https://media.giphy.com/media/iopxsZtW2QVRs4poEC/giphy.gif)\n",
    "\n",
    "---"
   ]
  },
  {
   "cell_type": "markdown",
   "metadata": {
    "id": "9IpE1pQ7sad7"
   },
   "source": [
    "### Part I: The`get_user_response` Function\n",
    "\n",
    "Yep, the `dr_who_quiz` function is the main function of the quiz. But this function will use a second function, called `get_user_response` to get the user's response to a question and validate it!\n",
    "\n",
    "Your first task is to complete this function by writing a `while` loop!\n",
    "\n",
    "1. Use the `input()` function to prompt the user to input one of two possible choices. Make sure you use the `answer_choices` parameter.\n",
    "2. After the user enters a response, change the response to be all uppercase.\n",
    "3. Then check if the response is valid:\n",
    "  - If the response is one of the two choices that are presented, `return` that response.\n",
    "  - Otherwise, prompt the user for a valid input.\n",
    "\n",
    "Remember: the `answer_choices` parameter will be a list: `answer_choices = [CHOICE_1, CHOICE_2]`\n",
    "\n",
    "<span style='background :#FFF59E'>**HINT**: the `needs_response` flag will need to be updated in order for the loop to stop looping!</span>"
   ]
  },
  {
   "cell_type": "code",
   "execution_count": 11,
   "metadata": {
    "id": "PWdYdBxssad8"
   },
   "outputs": [
    {
     "name": "stdin",
     "output_type": "stream",
     "text": [
      "Enter your choice chocolate cake\n"
     ]
    },
    {
     "name": "stdout",
     "output_type": "stream",
     "text": [
      "Invalid choice. Try again.\n"
     ]
    },
    {
     "name": "stdin",
     "output_type": "stream",
     "text": [
      "Enter your choice carrot cake\n"
     ]
    },
    {
     "name": "stdout",
     "output_type": "stream",
     "text": [
      "CARROT CAKE\n"
     ]
    }
   ],
   "source": [
    "# Complete the function below.\n",
    "# See the section that follows for more information/hints\n",
    "\n",
    "def get_user_response(answer_choices):\n",
    "    '''\n",
    "    This function prompts a user to type in an answer from a set of choices.\n",
    "    If none of the answer choices are repeated, a message is shown to the user\n",
    "    and they are asked to provide another response. This will continue until the user\n",
    "    correctly types in a response.\n",
    "\n",
    "    After the user has correctly typed a response, the function will return\n",
    "    that response.\n",
    "\n",
    "    Hint: The code will be more efficient if you use the .upper() method on the user response\n",
    "    to not make the user type in all caps.\n",
    "    '''\n",
    "\n",
    "    # ---------------- Starter code -------------------#\n",
    "    # declares the flag needed for the while loop\n",
    "    needs_response = True\n",
    "\n",
    "    # ---------------- Your code below -------------------#\n",
    "    # write a while loop for the user input that continues as long as `needs_response` is True\n",
    "    while needs_response == True:\n",
    "        # get response from user and change to uppercase\n",
    "        response = input(\"Enter your choice\").upper()\n",
    "\n",
    "        # check if response matches one of the answer choices\n",
    "        if response in answer_choices:\n",
    "            # if so, update the flag\n",
    "            needs_response = False\n",
    "\n",
    "        # if not, display a message to the user to try again\n",
    "        else:\n",
    "            print(\"Invalid choice. Try again.\")\n",
    "    # return the response from the user (should already be in uppercase)\n",
    "    return response\n",
    "\n",
    "answer_choices = ['CARROT CAKE', 'GERMAN CHOCOLATE CAKE']\n",
    "print(get_user_response(answer_choices))"
   ]
  },
  {
   "cell_type": "markdown",
   "metadata": {
    "id": "SMdQ_3nzsad8"
   },
   "source": [
    "#### Test your function!\n",
    "\n",
    "Test your `get_user_response` function.\n",
    "\n",
    "<span style='background :#DDD5F3'>If done correctly, the output of the following cell should be either 'CARROT CAKE'\n",
    "or 'GERMAN CHOCOLATE CAKE', depending on what you type. If you type 'cheesecake', you should have to try again.</span>"
   ]
  },
  {
   "cell_type": "code",
   "execution_count": null,
   "metadata": {
    "id": "kfNPZIFisad9"
   },
   "outputs": [],
   "source": [
    "# Test your function!\n",
    "get_user_response(['CARROT CAKE', 'GERMAN CHOCOLATE CAKE'])"
   ]
  },
  {
   "cell_type": "markdown",
   "metadata": {
    "id": "E_RJTAPxsad9",
    "tags": []
   },
   "source": [
    "### Part II: The `dr_who_quiz` Function\n",
    "\n",
    "Now you're ready to code the Dr. Who? Quiz!! Starter code for the `dr_who_quiz` function has been provided. You will need to complete the rest of it. This function will play the entire game and tell its users whether they are more similar to Dr. Alvarez or to Dr. Crider.\n",
    "\n",
    "1. Use a `for` loop to iterate through the questions in the `question_bank` dictionary. In each iteration ...\n",
    "    - Increment the `q_number` variable, counting each question\n",
    "    - Using an f-string, print the question number and question to the screen. The user should see, e.g., 'Question 1 of 5: Which is better on a pizza?'\n",
    "    - Using the question as the key, grab the answer choices from the `question_bank` dictionary. Store this in a variable named `answer_choices`.\n",
    "    - Call your `get_user_reponses` function to display the answer choices, get user input, and validate user input. Store the validated response in variable named `response`.\n",
    "    - Tally the score: if the response is found in Dr. Alvarez's answers, increment `DrA_score` by 1. Otherwise, increment `DrC_score` by 1.\n",
    "    \n",
    "2. Outside of the `for` loop, compare `DrA_score` against `DrC_score`.\n",
    "    - If `DrA_score` is larger than `DrC_score`, assign 'Dr. Alvarez' to a variable called `match`\n",
    "    - Otherwise, assign 'Dr. Crider' to the variable called `match`.\n",
    "    \n",
    "3. Use an f-string and the `match` variable to print the result of the quiz! The user should see, e.g., `Congrats! You are most similar to Dr. Crider!`\n",
    "\n",
    "\n",
    "Be sure to play a few rounds of the game to spot any errors! You got this."
   ]
  },
  {
   "cell_type": "markdown",
   "metadata": {
    "id": "V6w1yKsxsad9"
   },
   "source": [
    "#### Unable to do Part I?\n",
    "\n",
    "That's okay! Reach out to the HelpHub or attend Drop-In Hours to understand how to write the function.\n",
    "In the next cell, you will be provided with a working `get_user_response_solution` function so that you can complete the `dr_who_quiz`!"
   ]
  },
  {
   "cell_type": "code",
   "execution_count": null,
   "metadata": {
    "id": "gdS-bqv0sad-"
   },
   "outputs": [],
   "source": [
    "# If you weren't able to complete Part I\n",
    "# run this code to get the get_user_response_solution\n",
    "# Note: You will have to use the full function name, `get_user_response_solution`\n",
    "# in your code to not accidentally use the incorrect `get_user_response` function.\n",
    "\n",
    "from dr_who_setup import get_user_response_solution"
   ]
  },
  {
   "cell_type": "code",
   "execution_count": 3,
   "metadata": {
    "id": "pfyMg9_Msad-"
   },
   "outputs": [],
   "source": [
    "# Complete the function below\n",
    "def dr_who_quiz(question_bank, answer_bank):\n",
    "    '''\n",
    "    This function is the main body of the quiz.\n",
    "\n",
    "    It uses the `question_bank` and `answer_bank` to pose two options to the user per question.\n",
    "\n",
    "    As it iterats through the questions, it validates the user's response to each question by\n",
    "    comparing it with the two given options. (Hint: call the `get_user_response` function)\n",
    "\n",
    "    The function then determines whethether to increment Dr. Alvarez's score or Dr. Crider's score by comparing\n",
    "    the user input against each person's preferences in the `answer_bank`.\n",
    "\n",
    "    At the end of the quiz, based on the higher score, informs the user whether they are more similar\n",
    "    to Dr. Alvarez or Dr. Crider.\n",
    "\n",
    "    '''\n",
    "    # ---------------- Starter code -------------------#\n",
    "    # Initializing each score to 0\n",
    "    DrA_score = 0\n",
    "    DrC_score = 0\n",
    "\n",
    "    # quiz markers helper functions (no need to modify these)\n",
    "    q_number = 0 # question number to increment\n",
    "    n_questions = len(question_bank) # total number of questions\n",
    "\n",
    "\n",
    "    # ---------------- Your code below -------------------#\n",
    "    # conduct the quiz\n",
    "    # iterate through each question in `question_bank`\n",
    "    for question in question_bank:\n",
    "        # increment question number\n",
    "        q_number += 1\n",
    "\n",
    "        # show question to user\n",
    "        # e.g. user should see\n",
    "        #`Question 1 of 5: Which is better on a pizza?\n",
    "        choices = \" or \".join(question_bank[question])\n",
    "        print(f\"Question {q_number} of {n_questions}: {question}\")\n",
    "        \n",
    "        # grab answer_choices from question_bank dictionary\n",
    "        # hint: use the `key` to get the `value`\n",
    "        # get response from user (hint: use the function from above!)\n",
    "        response = input(f\"Type your answer: {choices}?\").upper()\n",
    "\n",
    "        # check if response matches Dr. A's responses\n",
    "        # look at how `answer_bank` is defined above to get the right key\n",
    "        # if in Dr. A's list of things increment `DrA_score`\n",
    "        if response in answer_bank['Dr. Alvarez']:\n",
    "            DrA_score += 1\n",
    "        else:\n",
    "            DrC_score += 1\n",
    "        # if not, increment `DrC_score`\n",
    "\n",
    "    # after the for loop, assign 'Dr. Alvarez' to `match` if DrA_score is higher\n",
    "    # otherwise assign 'Dr. Crider'.\n",
    "    match = 'Dr. Alvarez' if DrA_score > DrC_score else 'Dr. Crider'\n",
    "\n",
    "    # output the `match` to the user\n",
    "    print(f\"You are most similar to {match}!\")\n",
    "    "
   ]
  },
  {
   "cell_type": "markdown",
   "metadata": {
    "id": "L8bP7o4esad-"
   },
   "source": [
    "### Play the Game!\n",
    "\n",
    "Run the cell below to play the game! If you get an error before the game is finished (or get stuck in an infinite loop) that's okay! look at the code above and make sure you have thought about all the ways the code interacts to achieve the desired result.\n",
    "\n"
   ]
  },
  {
   "cell_type": "code",
   "execution_count": 7,
   "metadata": {
    "id": "eXTEa_y3sad_"
   },
   "outputs": [
    {
     "name": "stdout",
     "output_type": "stream",
     "text": [
      "Question 1 of 5: Which is better on a pizza?\n"
     ]
    },
    {
     "name": "stdin",
     "output_type": "stream",
     "text": [
      "Type your answer: OLIVES or PINEAPPLE? pineapple\n"
     ]
    },
    {
     "name": "stdout",
     "output_type": "stream",
     "text": [
      "Question 2 of 5: Where would you rather be?\n"
     ]
    },
    {
     "name": "stdin",
     "output_type": "stream",
     "text": [
      "Type your answer: MOUNTAIN or BEACH? mountain\n"
     ]
    },
    {
     "name": "stdout",
     "output_type": "stream",
     "text": [
      "Question 3 of 5: Night Owl or Morning Lark?\n"
     ]
    },
    {
     "name": "stdin",
     "output_type": "stream",
     "text": [
      "Type your answer: NIGHT or MORNING? morning lark\n"
     ]
    },
    {
     "name": "stdout",
     "output_type": "stream",
     "text": [
      "Question 4 of 5: Best way to eat an ice cream?\n"
     ]
    },
    {
     "name": "stdin",
     "output_type": "stream",
     "text": [
      "Type your answer: CONE or CUP? cone\n"
     ]
    },
    {
     "name": "stdout",
     "output_type": "stream",
     "text": [
      "Question 5 of 5: What do you prefer to wear?\n"
     ]
    },
    {
     "name": "stdin",
     "output_type": "stream",
     "text": [
      "Type your answer: SWEATPANTS or JEANS? sweatpants\n"
     ]
    },
    {
     "name": "stdout",
     "output_type": "stream",
     "text": [
      "You are most similar to Dr. Crider!\n"
     ]
    }
   ],
   "source": [
    "# play the game!\n",
    "question_bank = {\n",
    "    \"Which is better on a pizza?\": [\"OLIVES\", \"PINEAPPLE\"],\n",
    "    \"Where would you rather be?\": [\"MOUNTAIN\", \"BEACH\"],\n",
    "    \"Night Owl or Morning Lark?\": [\"NIGHT\", \"MORNING\"],\n",
    "    \"Best way to eat an ice cream?\": [\"CONE\", \"CUP\"],\n",
    "    \"What do you prefer to wear?\": [\"SWEATPANTS\", \"JEANS\"]\n",
    "    }\n",
    "\n",
    "answer_bank = {\n",
    "    \"Dr. Alvarez\": [\"PINEAPPLE\", \"BEACH\", \"NIGHT\", \"CONE\", \"JEANS\"],\n",
    "    \"Dr. Crider\": [\"OLIVES\", \"MOUNTAIN\", \"MORNING\", \"CUP\", \"SWEATPANTS\"]\n",
    "    }\n",
    "dr_who_quiz(question_bank, answer_bank)"
   ]
  },
  {
   "cell_type": "markdown",
   "metadata": {
    "id": "8qVWO9Smsad_"
   },
   "source": [
    "# Congratulations!!!\n",
    "\n",
    "![](https://media.giphy.com/media/fdyZ3qI0GVZC0/giphy.gif)"
   ]
  },
  {
   "cell_type": "markdown",
   "metadata": {
    "id": "yOenl-Rdsad_"
   },
   "source": [
    "## LevelUp\n",
    "\n",
    "Create your very own personality quiz question game that Dr. Alvarez and Dr. Crider can play! Maybe it's \"Are You More Like a Cat or a Dog?\" Or \"Are You More Like Taylor Swift or Billie Eilish?\" The possibilities are endless.\n",
    "\n",
    "Create a *new* `question_bank` and `answer_bank` dictionaries, preserving the same structure. Remember, the keys of the `question_bank` dictionary need to be the questions, and the values need to be possible answers (options). The keys of the `answer_bank` need to be characters or objects (e.g., 'Cat' and 'Dog'), and the values need to be lists of traits that describe their respective characters, e.g. ['NAPS', 'BALLS OF YARN'] for Cat, and ['WALKS', 'TENNIS BALLS'] for Dog.\n",
    "\n",
    "Three things to keep in mind:\n",
    "1. The number of questions should remain odd. Otherwise, you'll have to figure out what to do if there is a tie!\n",
    "2. The values in `answer_bank` need to be **unique** to the key they belong to.\n",
    "3. Format your list of values in `answer_bank` to be uppercase,\n",
    "\n",
    "Start with a personality quiz based on two personalities. When there are three, or four, or five, or more, the scoring becomes more complicated since ties are more likely and the `match` variable will need to be modified.\n",
    "\n",
    "Good luck! Your Global Tech Team can't wait to see what you come up with! 🙂"
   ]
  },
  {
   "cell_type": "code",
   "execution_count": 9,
   "metadata": {
    "id": "WIX1wSfzsad_"
   },
   "outputs": [
    {
     "name": "stdout",
     "output_type": "stream",
     "text": [
      "Question 1 of 5: Do you prefer napping or going for a walk?\n"
     ]
    },
    {
     "name": "stdin",
     "output_type": "stream",
     "text": [
      "Type your answer: Napping or Going for a walk?  napping\n"
     ]
    },
    {
     "name": "stdout",
     "output_type": "stream",
     "text": [
      "Question 2 of 5: Are you more independent or social?\n"
     ]
    },
    {
     "name": "stdin",
     "output_type": "stream",
     "text": [
      "Type your answer: Independent or Social?  independent\n"
     ]
    },
    {
     "name": "stdout",
     "output_type": "stream",
     "text": [
      "Question 3 of 5: Do you prefer quiet or playful activities?\n"
     ]
    },
    {
     "name": "stdin",
     "output_type": "stream",
     "text": [
      "Type your answer: Quiet or Playful?  quiet\n"
     ]
    },
    {
     "name": "stdout",
     "output_type": "stream",
     "text": [
      "Question 4 of 5: Are you more curious or loyal?\n"
     ]
    },
    {
     "name": "stdin",
     "output_type": "stream",
     "text": [
      "Type your answer: Curious or Loyal?  curious\n"
     ]
    },
    {
     "name": "stdout",
     "output_type": "stream",
     "text": [
      "Question 5 of 5: Do you prefer being indoors or outdoors?\n"
     ]
    },
    {
     "name": "stdin",
     "output_type": "stream",
     "text": [
      "Type your answer: Indoors or Outdoors?  indoors\n"
     ]
    },
    {
     "name": "stdout",
     "output_type": "stream",
     "text": [
      "Congrats! You are more like a Cat!\n"
     ]
    }
   ],
   "source": [
    "def personality_quiz(question_bank, answer_bank):\n",
    "    # Initializing each score to 0\n",
    "    cat_score = 0\n",
    "    dog_score = 0\n",
    "\n",
    "    # quiz markers helper functions (no need to modify these)\n",
    "    q_number = 0 # question number to increment\n",
    "    n_questions = len(question_bank) # total number of questions\n",
    "\n",
    "    # conduct the quiz\n",
    "    for question in question_bank:\n",
    "        # increment question number\n",
    "        q_number += 1\n",
    "\n",
    "        # show question to user\n",
    "        choices = \" or \".join(question_bank[question])\n",
    "        print(f\"Question {q_number} of {n_questions}: {question}\")\n",
    "        response = input(f\"Type your answer: {choices}? \").upper()\n",
    "\n",
    "        # check if response matches 'Cat' or 'Dog'\n",
    "        if response in answer_bank['Cat']:\n",
    "            cat_score += 1\n",
    "        elif response in answer_bank['Dog']:\n",
    "            dog_score += 1\n",
    "\n",
    "    # after the for loop, determine whether the user is more like 'Cat' or 'Dog'\n",
    "    match = 'Cat' if cat_score > dog_score else 'Dog'\n",
    "\n",
    "    # output the `match` to the user\n",
    "    print(f\"Congrats! You are more like a {match}!\")\n",
    "\n",
    "# Define the question bank and answer bank for the \"Cat or Dog\" quiz\n",
    "question_bank = {\n",
    "    \"Do you prefer napping or going for a walk?\": [\"Napping\", \"Going for a walk\"],\n",
    "    \"Are you more independent or social?\": [\"Independent\", \"Social\"],\n",
    "    \"Do you prefer quiet or playful activities?\": [\"Quiet\", \"Playful\"],\n",
    "    \"Are you more curious or loyal?\": [\"Curious\", \"Loyal\"],\n",
    "    \"Do you prefer being indoors or outdoors?\": [\"Indoors\", \"Outdoors\"]\n",
    "}\n",
    "\n",
    "answer_bank = {\n",
    "    \"Cat\": [\"NAPPING\", \"INDEPENDENT\", \"QUIET\", \"CURIOUS\", \"INDOORS\"],\n",
    "    \"Dog\": [\"GOING FOR A WALK\", \"SOCIAL\", \"PLAYFUL\", \"LOYAL\", \"OUTDOORS\"]\n",
    "}\n",
    "\n",
    "# Run the quiz\n",
    "personality_quiz(question_bank, answer_bank)"
   ]
  },
  {
   "cell_type": "code",
   "execution_count": null,
   "metadata": {},
   "outputs": [],
   "source": []
  }
 ],
 "metadata": {
  "colab": {
   "provenance": []
  },
  "kernelspec": {
   "display_name": "Python 3 (ipykernel)",
   "language": "python",
   "name": "python3"
  },
  "language_info": {
   "codemirror_mode": {
    "name": "ipython",
    "version": 3
   },
   "file_extension": ".py",
   "mimetype": "text/x-python",
   "name": "python",
   "nbconvert_exporter": "python",
   "pygments_lexer": "ipython3",
   "version": "3.10.6"
  }
 },
 "nbformat": 4,
 "nbformat_minor": 4
}
